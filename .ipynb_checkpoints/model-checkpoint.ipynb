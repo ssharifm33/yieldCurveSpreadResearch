{
 "cells": [
  {
   "cell_type": "code",
   "execution_count": 1,
   "metadata": {},
   "outputs": [],
   "source": [
    "# Grab Data and Set up Shop"
   ]
  },
  {
   "cell_type": "code",
   "execution_count": 6,
   "metadata": {},
   "outputs": [
    {
     "ename": "ModuleNotFoundError",
     "evalue": "No module named 'fredapi'",
     "output_type": "error",
     "traceback": [
      "\u001b[0;31m---------------------------------------------------------------------------\u001b[0m",
      "\u001b[0;31mModuleNotFoundError\u001b[0m                       Traceback (most recent call last)",
      "Cell \u001b[0;32mIn[6], line 2\u001b[0m\n\u001b[1;32m      1\u001b[0m \u001b[38;5;28;01mimport\u001b[39;00m \u001b[38;5;21;01mos\u001b[39;00m\n\u001b[0;32m----> 2\u001b[0m \u001b[38;5;28;01mfrom\u001b[39;00m \u001b[38;5;21;01mfredapi\u001b[39;00m \u001b[38;5;28;01mimport\u001b[39;00m Fred\n\u001b[1;32m      3\u001b[0m \u001b[38;5;28;01mimport\u001b[39;00m \u001b[38;5;21;01mpandas\u001b[39;00m \u001b[38;5;28;01mas\u001b[39;00m \u001b[38;5;21;01mpd\u001b[39;00m\n\u001b[1;32m      4\u001b[0m \u001b[38;5;28;01mimport\u001b[39;00m \u001b[38;5;21;01mmatplotlib\u001b[39;00m\u001b[38;5;21;01m.\u001b[39;00m\u001b[38;5;21;01mpyplot\u001b[39;00m \u001b[38;5;28;01mas\u001b[39;00m \u001b[38;5;21;01mplt\u001b[39;00m\n",
      "\u001b[0;31mModuleNotFoundError\u001b[0m: No module named 'fredapi'"
     ]
    }
   ],
   "source": [
    "import os\n",
    "from fredapi import Fred\n",
    "import pandas as pd\n",
    "import matplotlib.pyplot as plt\n",
    "import datetime\n",
    "\n",
    "# Use your real API key here\n",
    "fred = Fred(api_key=\"ab546902ed575b0eb5ddfe4b8b4605cf\")\n",
    "\n",
    "start_date = datetime.datetime(2000, 1, 1)\n",
    "end_date = datetime.datetime.today()\n",
    "\n",
    "# Pull 2-year and 10-year Treasury yields\n",
    "dgs2 = fred.get_series('DGS2', observation_start=start_date, observation_end=end_date)\n",
    "dgs10 = fred.get_series('DGS10', observation_start=start_date, observation_end=end_date)\n",
    "\n",
    "# Convert to DataFramesource .venv/bin/activate\n",
    "\n",
    "yields_df = pd.DataFrame({'2yr': dgs2, '10yr': dgs10})\n",
    "yields_df.dropna(inplace=True)\n"
   ]
  },
  {
   "cell_type": "code",
   "execution_count": null,
   "metadata": {},
   "outputs": [],
   "source": [
    "print(yields_df.head())"
   ]
  },
  {
   "cell_type": "code",
   "execution_count": null,
   "metadata": {},
   "outputs": [],
   "source": [
    "\n",
    "\n",
    "# Construct the Spread\n",
    "# LGF\n",
    "\n"
   ]
  },
  {
   "cell_type": "code",
   "execution_count": null,
   "metadata": {},
   "outputs": [],
   "source": [
    "yields_df['spread'] = yields_df['10yr'] - yields_df['2yr']\n",
    "print(yields_df.head())\n",
    "yields_df[['2yr','10yr','spread']].describe()"
   ]
  },
  {
   "cell_type": "code",
   "execution_count": null,
   "metadata": {},
   "outputs": [],
   "source": [
    "# Exploratory Data Analysis"
   ]
  },
  {
   "cell_type": "code",
   "execution_count": null,
   "metadata": {},
   "outputs": [],
   "source": [
    "print(yields_df['spread'].describe())"
   ]
  },
  {
   "cell_type": "code",
   "execution_count": null,
   "metadata": {},
   "outputs": [],
   "source": [
    "# Plot the Spread"
   ]
  },
  {
   "cell_type": "code",
   "execution_count": null,
   "metadata": {},
   "outputs": [],
   "source": [
    "plt.figure(figsize=(10,6))\n",
    "plt.plot(yields_df.index, yields_df['spread'], label='2yr-10yr Spread')\n",
    "plt.title('2yr-10yr Treasury Yield Spread Over Time')\n",
    "plt.xlabel('Date')\n",
    "plt.ylabel('Spread (bps or %)')\n",
    "plt.legend()\n",
    "plt.show()"
   ]
  },
  {
   "cell_type": "code",
   "execution_count": null,
   "metadata": {},
   "outputs": [],
   "source": [
    "# Augmented Dickey-Fuller (ADF) Test:"
   ]
  },
  {
   "cell_type": "code",
   "execution_count": null,
   "metadata": {},
   "outputs": [],
   "source": [
    "from statsmodels.tsa.stattools import adfuller\n",
    "\n",
    "adf_result = adfuller(yields_df['spread'].dropna())\n",
    "print(\"ADF Statistic: \", adf_result[0])\n",
    "print(\"p-value: \", adf_result[1])\n"
   ]
  },
  {
   "cell_type": "code",
   "execution_count": null,
   "metadata": {},
   "outputs": [],
   "source": [
    "# Autocorrelation Plots"
   ]
  },
  {
   "cell_type": "code",
   "execution_count": null,
   "metadata": {},
   "outputs": [],
   "source": [
    "from statsmodels.graphics.tsaplots import plot_acf, plot_pacf\n",
    "\n",
    "fig, ax = plt.subplots(2, 1, figsize=(10,8))\n",
    "plot_acf(yields_df['spread'].dropna(), ax=ax[0], lags=50)\n",
    "plot_pacf(yields_df['spread'].dropna(), ax=ax[1], lags=50)\n",
    "plt.show()\n"
   ]
  },
  {
   "cell_type": "code",
   "execution_count": null,
   "metadata": {},
   "outputs": [],
   "source": [
    "import numpy as np\n",
    "from scipy.optimize import minimize\n",
    "\n",
    "def ou_neg_log_likelihood(params, spread_series):\n",
    "    # params = [kappa, theta, sigma]\n",
    "    kappa, theta, sigma = params\n",
    "    dt = 1.0  # assume 1 day steps if data is daily\n",
    "    s = spread_series.values\n",
    "    n = len(s)\n",
    "\n",
    "    # Build residuals\n",
    "    # S_{t+1} - S_t = kappa*(theta - S_t)*dt + noise\n",
    "    # noise ~ Normal(0, sigma^2 * dt)\n",
    "    residuals = (s[1:] - s[:-1]) - kappa*(theta - s[:-1])*dt\n",
    "\n",
    "    # Log-likelihood under normal distribution\n",
    "    # log L ~ sum of - (residual^2) / (2*sigma^2*dt) - log(sigma*sqrt(dt))\n",
    "    ll = -0.5*n*np.log(2*np.pi) \\\n",
    "         - (n-1)*np.log(sigma*np.sqrt(dt)) \\\n",
    "         - 0.5*np.sum((residuals**2) / (sigma**2 * dt))\n",
    "    return -ll  # we use negative for minimization\n",
    "\n",
    "def estimate_ou_params(spread_series):\n",
    "    # Initial guesses\n",
    "    kappa_init = 0.1\n",
    "    theta_init = spread_series.mean()\n",
    "    sigma_init = spread_series.std()\n",
    "\n",
    "    bounds = [(1e-6, None), (None, None), (1e-6, None)]  # avoid zero or negative for kappa, sigma\n",
    "    result = minimize(ou_neg_log_likelihood,\n",
    "                      x0=[kappa_init, theta_init, sigma_init],\n",
    "                      args=(spread_series,),\n",
    "                      bounds=bounds)\n",
    "    return result.x  # [kappa, theta, sigma]\n"
   ]
  },
  {
   "cell_type": "code",
   "execution_count": null,
   "metadata": {},
   "outputs": [],
   "source": [
    "spread_data = yields_df['spread'].dropna()\n",
    "kappa_est, theta_est, sigma_est = estimate_ou_params(spread_data)\n",
    "print(\"Estimated kappa =\", kappa_est)\n",
    "print(\"Estimated theta =\", theta_est)\n",
    "print(\"Estimated sigma =\", sigma_est)\n"
   ]
  },
  {
   "cell_type": "code",
   "execution_count": null,
   "metadata": {},
   "outputs": [],
   "source": [
    "print(yields_df.head())"
   ]
  },
  {
   "cell_type": "code",
   "execution_count": null,
   "metadata": {},
   "outputs": [],
   "source": []
  },
  {
   "cell_type": "code",
   "execution_count": null,
   "metadata": {},
   "outputs": [],
   "source": []
  }
 ],
 "metadata": {
  "kernelspec": {
   "display_name": "Python 3 (ipykernel)",
   "language": "python",
   "name": "python3"
  },
  "language_info": {
   "codemirror_mode": {
    "name": "ipython",
    "version": 3
   },
   "file_extension": ".py",
   "mimetype": "text/x-python",
   "name": "python",
   "nbconvert_exporter": "python",
   "pygments_lexer": "ipython3",
   "version": "3.9.13"
  },
  "vscode": {
   "interpreter": {
    "hash": "7500c3e1c7c786e4ba1e4b4eb7588219b4e35d5153674f92eb3a82672b534f6e"
   }
  }
 },
 "nbformat": 4,
 "nbformat_minor": 4
}
